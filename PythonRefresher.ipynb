{
 "cells": [
  {
   "cell_type": "code",
   "execution_count": 3,
   "metadata": {},
   "outputs": [
    {
     "name": "stdout",
     "output_type": "stream",
     "text": [
      "h\n",
      "e\n",
      "l\n",
      "l\n",
      "o\n",
      "h\n",
      "e\n",
      "l\n",
      "l\n",
      "o\n"
     ]
    }
   ],
   "source": [
    "my_string = \"hello\"\n",
    "\n",
    "for character in my_string:\n",
    "    print(character)"
   ]
  },
  {
   "cell_type": "code",
   "execution_count": 4,
   "metadata": {},
   "outputs": [
    {
     "name": "stdout",
     "output_type": "stream",
     "text": [
      "I'm continuing!\n",
      "Should we continue? (y/n)y\n",
      "I'm continuing!\n",
      "Should we continue? (y/n)n\n"
     ]
    }
   ],
   "source": [
    "should_continue = True\n",
    "while should_continue:\n",
    "    print(\"I'm continuing!\")\n",
    "\n",
    "    user_input = input(\"Should we continue? (y/n)\")\n",
    "    if user_input == 'n':\n",
    "        should_continue = False"
   ]
  },
  {
   "cell_type": "code",
   "execution_count": 6,
   "metadata": {},
   "outputs": [
    {
     "name": "stdout",
     "output_type": "stream",
     "text": [
      "Enter your name: John\n",
      "Hello John, I know you!\n"
     ]
    }
   ],
   "source": [
    "my_known_people = [\"John\", \"Rolf\", \"Anne\"]\n",
    "user_name = input(\"Enter your name: \")\n",
    "\n",
    "if user_name in my_known_people:\n",
    "    print(\"Hello {}, I know you!\".format(user_name))"
   ]
  },
  {
   "cell_type": "code",
   "execution_count": 7,
   "metadata": {
    "collapsed": true
   },
   "outputs": [],
   "source": [
    "names_list = [\"John\", \"Rolf\", \"Anne\"]\n",
    "lowercase_names = [name.lower() for name in names_list]"
   ]
  },
  {
   "cell_type": "code",
   "execution_count": 26,
   "metadata": {},
   "outputs": [
    {
     "data": {
      "text/plain": [
       "15"
      ]
     },
     "execution_count": 26,
     "metadata": {},
     "output_type": "execute_result"
    }
   ],
   "source": [
    "my_dict = {\n",
    "    'name': 'Jose',\n",
    "    'location': 'UK'\n",
    "}\n",
    "\n",
    "lottery_player = {\n",
    "    'name': 'Rolf',\n",
    "    'numbers': (13, 22, 3, 6, 9)\n",
    "}\n",
    "\n",
    "dict_in_dict = {\n",
    "    'universities': [\n",
    "        {\n",
    "            'name': 'Oxford',\n",
    "            'location': 'UK'\n",
    "        },\n",
    "        {\n",
    "            'name': 'Harvard',\n",
    "            'location': 'US'\n",
    "        }\n",
    "    ]\n",
    "}\n",
    "\n",
    "##\n",
    "\n",
    "lottery_player = {\n",
    "    'name': 'Rolf',\n",
    "    'numbers': (13, 22, 3, 6, 9)\n",
    "}\n",
    "\n",
    "players = [\n",
    "    {\n",
    "        'name': 'Rolf',\n",
    "        'numbers': (13, 22, 3, 6, 9)\n",
    "    },\n",
    "    {\n",
    "        'name': 'John',\n",
    "        'numbers': (22, 3, 5, 7, 9)\n",
    "    }\n",
    "]\n",
    "\n",
    "# How could we select one of these?\n",
    "\n",
    "player = players[0]\n",
    "\n",
    "# How could we add all the numbers of a player?\n",
    "\n",
    "sum(player['numbers'])\n",
    "\n",
    "# We have a method that takes in a list—it does not have to be a list of numbers\n",
    "# of a player. Indeed, we could do something like this:\n",
    "\n",
    "sum([1, 2, 3, 4, 5])\n",
    "\n",
    "# Wouldn't it be nice if the player itself (the dictionary) had a method\n",
    "# that would give us the sum of its numbers? Something like this:\n",
    "\n",
    "#player.total()\n",
    "\n",
    "# If the player had a method that gives us the sum of its numbers,\n",
    "# it makes it more difficult to \"game\" the system—we can no longer pass in\n",
    "# a different list of numbers.\n",
    "\n",
    "# In addition, because what we are interested in is the sum of the players' numbers,\n",
    "# it makes sense for the player itself to tell us that, and not some other method\n",
    "# that is not a part of the player."
   ]
  },
  {
   "cell_type": "markdown",
   "metadata": {},
   "source": [
    "### Object Oriented Exercises"
   ]
  },
  {
   "cell_type": "code",
   "execution_count": 52,
   "metadata": {},
   "outputs": [
    {
     "data": {
      "text/plain": [
       "False"
      ]
     },
     "execution_count": 52,
     "metadata": {},
     "output_type": "execute_result"
    }
   ],
   "source": [
    "lottery_player = {\n",
    "    'name': 'Rolf',\n",
    "    'numbers': (13, 22, 3, 6, 9)\n",
    "}\n",
    "\n",
    "class LotteryPlayer:\n",
    "    def __init__(self):\n",
    "        self.name = \"Rolf\"\n",
    "        self.numbers = (5,9,12,3)\n",
    "    \n",
    "    def total(self):\n",
    "        return sum(self.numbers)\n",
    "\n",
    "player1 = LotteryPlayer()\n",
    "player2 = LotteryPlayer()\n",
    "\n",
    "\n",
    "player1 #0x2008ad61940\n",
    "player2 #0x2008ad809e8\n",
    "\n",
    "player1 is player2\n",
    "# False\n",
    "# player1 = player2\n",
    "# player1 is player2\n",
    "# True"
   ]
  },
  {
   "cell_type": "code",
   "execution_count": 91,
   "metadata": {},
   "outputs": [
    {
     "ename": "AttributeError",
     "evalue": "type object 'Student' has no attribute 'name'",
     "output_type": "error",
     "traceback": [
      "\u001b[1;31m---------------------------------------------------------------------------\u001b[0m",
      "\u001b[1;31mAttributeError\u001b[0m                            Traceback (most recent call last)",
      "\u001b[1;32m<ipython-input-91-33034ff1551a>\u001b[0m in \u001b[0;36m<module>\u001b[1;34m()\u001b[0m\n\u001b[0;32m     51\u001b[0m \u001b[1;31m#anna.go_to_home()\u001b[0m\u001b[1;33m\u001b[0m\u001b[1;33m\u001b[0m\u001b[0m\n\u001b[0;32m     52\u001b[0m \u001b[1;33m\u001b[0m\u001b[0m\n\u001b[1;32m---> 53\u001b[1;33m \u001b[0mStudent\u001b[0m\u001b[1;33m.\u001b[0m\u001b[0mname\u001b[0m\u001b[1;33m\u001b[0m\u001b[0m\n\u001b[0m",
      "\u001b[1;31mAttributeError\u001b[0m: type object 'Student' has no attribute 'name'"
     ]
    }
   ],
   "source": [
    "lottery_player = {\n",
    "    'name': 'Rolf',\n",
    "    'numbers': (13, 22, 3, 6, 9)\n",
    "}\n",
    "\n",
    "class LotteryPlayer:\n",
    "    def __init__(self, name):\n",
    "        self.name = name\n",
    "        self.numbers = (5,9,12,3)\n",
    "    \n",
    "    def total(self):\n",
    "        return sum(self.numbers)\n",
    "\n",
    "player1 = LotteryPlayer('Ali')\n",
    "player2 = LotteryPlayer('Rıza')\n",
    "\n",
    "\n",
    "player1.name #0x2008ad61940\n",
    "player2.name\n",
    "\n",
    "class Student:\n",
    "    def __init__(self,name,school):\n",
    "        self.name = name\n",
    "        self.school = school\n",
    "        self.marks = []\n",
    "    \n",
    "    def average(self):\n",
    "        return sum(self.marks) / len(self.marks)\n",
    "    \n",
    "    #You should always return self but you can use classmethod or static method instead.\n",
    "    @classmethod\n",
    "    def go_to_school(cls):\n",
    "        print(\"I'm going to \")\n",
    "        print(\"I am a {}\".format(cls))\n",
    "    \n",
    "    @staticmethod\n",
    "    def go_to_home():\n",
    "        print(\"Go home Yankee!!\")\n",
    "           \n",
    "anna = Student(\"Anna\",\"MIT\")\n",
    "rolf = Student(\"Rolf\",\"Oxford\")\n",
    "\n",
    "anna.marks.append(44)\n",
    "anna.marks.append(55)\n",
    "\n",
    "#anna.go_to_school()\n",
    "#I am a <class '__main__.Student'>\n",
    "\n",
    "#Student.go_to_school()\n",
    "#anna.go_to_home()"
   ]
  },
  {
   "cell_type": "code",
   "execution_count": 98,
   "metadata": {
    "collapsed": true
   },
   "outputs": [],
   "source": [
    "class Store:\n",
    "    def __init__(self, name):\n",
    "        self.name = name\n",
    "        self.items = []\n",
    "\n",
    "    def add_item(self, name, price):\n",
    "        self.items.append({\n",
    "            'name': name,\n",
    "            'price': price\n",
    "        })\n",
    "\n",
    "    def stock_price(self):\n",
    "        total = 0\n",
    "        for item in self.items:\n",
    "            total += item['price']\n",
    "        return total\n",
    "\n",
    "    @classmethod\n",
    "    def franchise(cls, store):\n",
    "        # Return another store, with the same name as the argument's name, plus \" - franchise\"\n",
    "        return Store(store.name + \" - franchise\")\n",
    "    \n",
    "    @staticmethod\n",
    "    def store_details(store):\n",
    "        # Return a string representing the argument\n",
    "        # It should be in the format 'NAME, total stock price: TOTAL'\n",
    "        return \"{}, total stock price: {}\".format(store.name, int(store.stock_price() ))"
   ]
  },
  {
   "cell_type": "code",
   "execution_count": 100,
   "metadata": {},
   "outputs": [
    {
     "data": {
      "text/plain": [
       "<__main__.Store at 0x2008add3438>"
      ]
     },
     "execution_count": 100,
     "metadata": {},
     "output_type": "execute_result"
    }
   ],
   "source": [
    "store = Store(\"Test\")\n",
    "store2 = Store(\"Amazon\")\n",
    "store2.add_item(\"Keyboard\",160)\n",
    "\n",
    "Store.franchise(store)\n",
    "Store.franchise(store2)\n",
    "\n",
    "Store.store_details(store)\n",
    "Store.store_details(store2)"
   ]
  },
  {
   "cell_type": "code",
   "execution_count": 133,
   "metadata": {},
   "outputs": [
    {
     "name": "stdout",
     "output_type": "stream",
     "text": [
      "Sinan\n",
      "Oxford\n",
      "20\n"
     ]
    }
   ],
   "source": [
    "# Inheritence \n",
    "class Student:\n",
    "    def __init__(self, name, school):\n",
    "        self.name = name\n",
    "        self.school = school\n",
    "        self.marks = []\n",
    "    \n",
    "    def average(self):\n",
    "        return sum(self.marks) / len(self.marks)\n",
    "    \n",
    "    def friend(self, friend_name):\n",
    "        return Student(friend_name, self.school)\n",
    "    \n",
    "class WorkingStudent(Student): \n",
    "    def __init__(self, name, school, salary):\n",
    "        super().__init__(name, school)\n",
    "        self.salary = salary\n",
    "    \n",
    "\n",
    "\n",
    "anna = WorkingStudent(\"Anna\", \"Oxford\", 20)\n",
    "anna.marks.append(40)\n",
    "friend = anna.friend(\"Sinan\")\n",
    "\n",
    "print(friend.name)\n",
    "print(friend.school)\n",
    "print(anna.salary)\n"
   ]
  },
  {
   "cell_type": "code",
   "execution_count": 128,
   "metadata": {},
   "outputs": [
    {
     "name": "stdout",
     "output_type": "stream",
     "text": [
      "Sinan\n",
      "Oxford\n",
      "40\n",
      "Software Developer\n"
     ]
    }
   ],
   "source": [
    "# Inheritence \n",
    "class Student:\n",
    "    def __init__(self, name, school):\n",
    "        self.name = name\n",
    "        self.school = school\n",
    "        self.marks = []\n",
    "    \n",
    "    def average(self):\n",
    "        return sum(self.marks) / len(self.marks)\n",
    "    \n",
    "    @classmethod\n",
    "    def friend(cls, origin, friend_name,*args,**kwargs):\n",
    "        return cls(friend_name, origin.school,*args,**kwargs)\n",
    "    \n",
    "class WorkingStudent(Student): \n",
    "    def __init__(self, name, school, salary, job_title):\n",
    "        super().__init__(name, school) #Inherits from Student.init\n",
    "        self.salary = salary\n",
    "        self.job_title = job_title\n",
    "\n",
    "\n",
    "anna = WorkingStudent(\"Anna\", \"Oxford\", 20, \"Software Developer\")\n",
    "anna.marks.append(40)\n",
    "\n",
    "friend = WorkingStudent.friend(anna,\"Sinan\", 40, job_title=\"Software Developer\")\n",
    "\n",
    "print(friend.name)\n",
    "print(friend.school)\n",
    "print(friend.salary) #  'Student' object has no attribute 'salary'\n",
    "print(friend.job_title)"
   ]
  },
  {
   "cell_type": "code",
   "execution_count": 122,
   "metadata": {},
   "outputs": [
    {
     "name": "stdout",
     "output_type": "stream",
     "text": [
      "(12, 35, 64, 'hello')\n",
      "()\n",
      "{'name': 'Jose', 'location': 'UK'}\n",
      "(12, 35, 66)\n",
      "{'name': 'Jose', 'location': 'UK'}\n"
     ]
    }
   ],
   "source": [
    "# Args and Kwargs: Sent unlimited number of arguments\n",
    "\n",
    "def my_method(arg1, arg2):\n",
    "    return arg1 + arg2\n",
    "\n",
    "def my_really_long_addition(arg1, arg2, arg3, arg4, arg5):\n",
    "    return arg1 + arg2 + arg3 + arg4 + arg5\n",
    "\n",
    "my_really_long_addition(13, 45, 66, 3, 4)\n",
    "\n",
    "def adding_simplified(arg_list):\n",
    "    return sum(arg_list)\n",
    "\n",
    "adding_simplified([13, 45, 66, 3, 4])\n",
    "\n",
    "# But you need a list :(\n",
    "\n",
    "def what_are_args(*args):\n",
    "    print(args)\n",
    "\n",
    "what_are_args(12, 35, 64, 'hello')\n",
    "\n",
    "def adding_more_simplified(*args):\n",
    "    return sum(args)  # args is a tuple of arguments passed\n",
    "\n",
    "adding_more_simplified(13, 45, 66, 3, 4)\n",
    "\n",
    "###\n",
    "\n",
    "# As well as a tuple of args, we can pass kwargs\n",
    "\n",
    "def what_are_kwargs(*args, **kwargs):\n",
    "    print(args)\n",
    "    print(kwargs)\n",
    "\n",
    "what_are_kwargs(name='Jose', location='UK')\n",
    "what_are_kwargs(12, 35, 66, name='Jose', location='UK')\n",
    "\n",
    "# args are a tuple\n",
    "# kwargs is a dictionary\n",
    "# This will come in handy!"
   ]
  },
  {
   "cell_type": "code",
   "execution_count": 137,
   "metadata": {},
   "outputs": [
    {
     "name": "stdout",
     "output_type": "stream",
     "text": [
      "112\n",
      "112\n",
      "[56, 77, 484]\n"
     ]
    },
    {
     "data": {
      "text/plain": [
       "15"
      ]
     },
     "execution_count": 137,
     "metadata": {},
     "output_type": "execute_result"
    }
   ],
   "source": [
    "# Pass Methods as Parameters\n",
    "\n",
    "def methodception(another):\n",
    "    return another()\n",
    "\n",
    "def add_two_number():\n",
    "    return 35 + 77\n",
    "    \n",
    "print(methodception(add_two_number))\n",
    "\n",
    "# Lambda Function\n",
    "\n",
    "print(methodception(lambda: 35 + 77))\n",
    "\n",
    "my_list = [13, 56, 77, 484]\n",
    "print(list(filter(lambda x: x != 13, my_list)))\n",
    "my_list\n",
    "\n",
    "(lambda x: x * 3)(5)"
   ]
  },
  {
   "cell_type": "code",
   "execution_count": 139,
   "metadata": {},
   "outputs": [
    {
     "name": "stdout",
     "output_type": "stream",
     "text": [
      "In the decorator\n",
      "I'm the function!\n",
      "After the decorator\n"
     ]
    }
   ],
   "source": [
    "import functools\n",
    "\n",
    "def my_decorator(func):\n",
    "    @functools.wraps(func)\n",
    "    def function_that_runs_func():\n",
    "        print(\"In the decorator\")\n",
    "        func()\n",
    "        print(\"After the decorator\")\n",
    "    return function_that_runs_func\n",
    "\n",
    "@my_decorator\n",
    "def my_function():\n",
    "    print(\"I'm the function!\")\n",
    "    \n",
    "my_function()\n",
    "\n"
   ]
  },
  {
   "cell_type": "code",
   "execution_count": 144,
   "metadata": {},
   "outputs": [
    {
     "name": "stdout",
     "output_type": "stream",
     "text": [
      "In the decorator\n",
      "Not running the function\n",
      "After the decorator\n"
     ]
    }
   ],
   "source": [
    "# Decorator with number\n",
    "# You can handle user permissions\n",
    "\n",
    "def decorator_with_arguments(number):\n",
    "    def my_decorator(func):\n",
    "        @functools.wraps(func)\n",
    "        def function_that_runs_func(*args, **kwargs):\n",
    "            print(\"In the decorator\")\n",
    "            if number == 56:\n",
    "                print(\"Not running the function\")\n",
    "            else:\n",
    "                func(*args, **kwargs)\n",
    "            print(\"After the decorator\")\n",
    "        return function_that_runs_func\n",
    "    return my_decorator\n",
    "\n",
    "@decorator_with_arguments(56)\n",
    "def my_function_too():\n",
    "    print(\"Hello\")\n",
    "\n",
    "my_function_too()"
   ]
  },
  {
   "cell_type": "code",
   "execution_count": null,
   "metadata": {
    "collapsed": true
   },
   "outputs": [],
   "source": []
  }
 ],
 "metadata": {
  "kernelspec": {
   "display_name": "Python 3",
   "language": "python",
   "name": "python3"
  },
  "language_info": {
   "codemirror_mode": {
    "name": "ipython",
    "version": 3
   },
   "file_extension": ".py",
   "mimetype": "text/x-python",
   "name": "python",
   "nbconvert_exporter": "python",
   "pygments_lexer": "ipython3",
   "version": "3.6.2"
  }
 },
 "nbformat": 4,
 "nbformat_minor": 2
}
